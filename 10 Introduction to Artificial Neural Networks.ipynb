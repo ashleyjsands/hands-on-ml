{
 "cells": [
  {
   "cell_type": "code",
   "execution_count": 4,
   "metadata": {},
   "outputs": [
    {
     "name": "stdout",
     "output_type": "stream",
     "text": [
      "Extracting /tmp/data/train-images-idx3-ubyte.gz\n",
      "Extracting /tmp/data/train-labels-idx1-ubyte.gz\n",
      "Extracting /tmp/data/t10k-images-idx3-ubyte.gz\n",
      "Extracting /tmp/data/t10k-labels-idx1-ubyte.gz\n"
     ]
    }
   ],
   "source": [
    "import tensorflow as tf\n",
    "import numpy as np\n",
    "from tensorflow.examples.tutorials.mnist import input_data\n",
    "mnist = input_data.read_data_sets(\"/tmp/data/\")"
   ]
  },
  {
   "cell_type": "code",
   "execution_count": null,
   "metadata": {},
   "outputs": [],
   "source": [
    "number_of_features = 28 * 28\n",
    "w = tf.Variable(tf.random_normal([number_of_features], name=\"weights\"))\n",
    "b = tf.Variable(0.0, name=\"bias\")\n",
    "x = tf.placeholder(tf.float32, shape=(None, number_of_features), name=\"input\")\n",
    "y = tf.placeholder(tf.float32, shape=(None, 1), name=\"y\")\n",
    "output = logistic_regression(w, b, x)\n",
    "\n",
    "error = output - y\n",
    "\n",
    "mse = tf.reduce_mean(tf.square(error), name=\"mse\")\n",
    "optimizer = tf.train.GradientDescentOptimizer(learning_rate=0.2)\n",
    "training_op = optimizer.minimize(mse)\n",
    "correctness = tf.reduce_mean(tf.cast(tf.abs(error) < 0.1, tf.float32)) * 100"
   ]
  },
  {
   "cell_type": "code",
   "execution_count": null,
   "metadata": {},
   "outputs": [],
   "source": [
    "epochs = 10\n",
    "batch_size = 50\n",
    "n_batches = int(np.ceil(mnist.train.num_examples // batch_size))\n",
    "\n",
    "init = tf.global_variables_initializer()\n",
    "saver = tf.train.Saver()\n",
    "\n",
    "interim_checkpoint_path = \"./checkpoints/mnist_model.ckpt\"\n",
    "\n",
    "from datetime import datetime\n",
    "\n",
    "now = datetime.utcnow().strftime(\"%Y%m%d%H%M%S\")\n",
    "root_logdir = \"tf_logs\"\n",
    "log_dir = \"{}/run-{}/\".format(root_logdir, now)\n",
    "\n",
    "mse_summary = tf.summary.scalar('MSE', mse)\n",
    "correctness_summary = tf.summary.scalar(\"correctness\", correctness)\n",
    "summary_op = tf.summary.merge([mse_summary, correctness_summary])\n",
    "file_writer = tf.summary.FileWriter(log_dir, tf.get_default_graph())"
   ]
  },
  {
   "cell_type": "code",
   "execution_count": null,
   "metadata": {},
   "outputs": [],
   "source": [
    "with tf.Session() as sess:\n",
    "    sess.run(init)\n",
    "    #saver.restore(sess, interim_checkpoint_path)\n",
    "    \n",
    "    for epoch in range(epochs):\n",
    "        for batch_index in range(n_batches):\n",
    "            batch_X = moon_X[batch_index * batch_size:(batch_index + 1) * batch_size]\n",
    "            #print(\"batch_X shape:\", batch_X.shape)\n",
    "            batch_y = moon_y[batch_index * batch_size:(batch_index + 1) * batch_size].reshape((-1, 1))\n",
    "            #print(\"batch_Y shape:\", batch_y.shape)\n",
    "            if batch_index % 10 == 0:\n",
    "                summary_str = summary_op.eval(feed_dict={x: batch_X, y: batch_y})\n",
    "                step = epoch * n_batches + batch_index\n",
    "                file_writer.add_summary(summary_str, step)\n",
    "            t, m = sess.run([training_op, mse], feed_dict={x: batch_X, y: batch_y})\n",
    "            \n",
    "            #print(\"Batch performance: \", batch_correctness)\n",
    "            if batch_index == 0: print(\"Mean squared error:\", m)\n",
    "        if epoch % 100 == 0:\n",
    "            save_path = saver.save(sess, interim_checkpoint_path)\n",
    "\n",
    "    save_path = saver.save(sess, \"./checkpoints/mnist_model_final.ckpt\")"
   ]
  }
 ],
 "metadata": {
  "kernelspec": {
   "display_name": "Python 3",
   "language": "python",
   "name": "python3"
  },
  "language_info": {
   "codemirror_mode": {
    "name": "ipython",
    "version": 3
   },
   "file_extension": ".py",
   "mimetype": "text/x-python",
   "name": "python",
   "nbconvert_exporter": "python",
   "pygments_lexer": "ipython3",
   "version": "3.5.2"
  }
 },
 "nbformat": 4,
 "nbformat_minor": 2
}
