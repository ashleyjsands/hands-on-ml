{
 "cells": [
  {
   "cell_type": "code",
   "execution_count": 2,
   "metadata": {},
   "outputs": [
    {
     "data": {
      "text/plain": [
       "Pipeline(steps=(('scaler', StandardScaler(copy=True, with_mean=True, with_std=True)), ('linear_svc', LinearSVC(C=1, class_weight=None, dual=True, fit_intercept=True,\n",
       "     intercept_scaling=1, loss='hinge', max_iter=1000, multi_class='ovr',\n",
       "     penalty='l2', random_state=None, tol=0.0001, verbose=0))))"
      ]
     },
     "execution_count": 2,
     "metadata": {},
     "output_type": "execute_result"
    }
   ],
   "source": [
    "import numpy as np\n",
    "from sklearn import datasets\n",
    "from sklearn.pipeline import Pipeline\n",
    "from sklearn.preprocessing import StandardScaler\n",
    "from sklearn.svm import LinearSVC\n",
    "\n",
    "iris = datasets.load_iris()\n",
    "X = iris[\"data\"][:, (2, 3)] # petal length, petal width\n",
    "y = (iris[\"target\"] == 2).astype(np.float64) # Iris-virginica\n",
    "\n",
    "svm_clf = Pipeline((\n",
    "    (\"scaler\", StandardScaler()),\n",
    "    (\"linear_svc\", LinearSVC(C=1, loss=\"hinge\"))\n",
    "))\n",
    "svm_clf.fit(X, y)"
   ]
  },
  {
   "cell_type": "code",
   "execution_count": 3,
   "metadata": {},
   "outputs": [
    {
     "data": {
      "text/plain": [
       "array([ 1.])"
      ]
     },
     "execution_count": 3,
     "metadata": {},
     "output_type": "execute_result"
    }
   ],
   "source": [
    "svm_clf.predict([[5.5, 1.7]])"
   ]
  },
  {
   "cell_type": "code",
   "execution_count": 4,
   "metadata": {
    "scrolled": true
   },
   "outputs": [
    {
     "data": {
      "text/plain": [
       "(array([[  5.37461710e-01,  -3.86599306e-01],\n",
       "        [  1.99794539e+00,   4.35929780e-01],\n",
       "        [  1.90096887e+00,   6.61162609e-02],\n",
       "        [  1.96729486e+00,   2.46345416e-01],\n",
       "        [  7.15472413e-01,  -4.58667853e-01],\n",
       "        [ -9.49055747e-01,   3.15108218e-01],\n",
       "        [  3.76510198e-01,  -2.81831482e-01],\n",
       "        [  5.95216657e-01,  -4.14412623e-01],\n",
       "        [  1.62348980e+00,  -2.81831482e-01],\n",
       "        [  8.71318704e-01,   4.90717552e-01],\n",
       "        [  3.20515776e-02,   9.99486216e-01],\n",
       "        [  8.38088105e-01,   5.45534901e-01],\n",
       "        [  2.38554042e-01,  -1.48228395e-01],\n",
       "        [  1.09602303e+00,  -4.95379113e-01],\n",
       "        [ -9.00968868e-01,   4.33883739e-01],\n",
       "        [  9.26916757e-01,   3.75267005e-01],\n",
       "        [  1.40478334e+00,  -4.14412623e-01],\n",
       "        [  7.18349350e-01,   6.95682551e-01],\n",
       "        [ -9.97945393e-01,   6.40702200e-02],\n",
       "        [  9.67948422e-01,  -4.99486216e-01],\n",
       "        [  8.40400105e-01,  -4.87181783e-01],\n",
       "        [  1.28681296e-01,   9.28244800e-03],\n",
       "        [  6.23489802e-01,   7.81831482e-01],\n",
       "        [  1.94905575e+00,   1.84891782e-01],\n",
       "        [  1.51839257e+00,  -3.55142763e-01],\n",
       "        [  1.46253829e+00,  -3.86599306e-01],\n",
       "        [  2.81650650e-01,  -1.95682551e-01],\n",
       "        [  4.27883340e-01,  -3.20172255e-01],\n",
       "        [ -8.38088105e-01,   5.45534901e-01],\n",
       "        [  1.84408430e-02,   3.08841371e-01],\n",
       "        [ -9.60230259e-02,   9.95379113e-01],\n",
       "        [  5.18392568e-01,   8.55142763e-01],\n",
       "        [  1.59599895e-01,   9.87181783e-01],\n",
       "        [  3.27051370e-02,   2.46345416e-01],\n",
       "        [  2.05460725e-03,   4.35929780e-01],\n",
       "        [  9.60230259e-02,   9.95379113e-01],\n",
       "        [  9.49055747e-01,   3.15108218e-01],\n",
       "        [  3.27699110e-01,  -2.40277997e-01],\n",
       "        [  1.15959990e+00,  -4.87181783e-01],\n",
       "        [  2.00000000e+00,   5.00000000e-01],\n",
       "        [  9.81559157e-01,   1.91158629e-01],\n",
       "        [ -9.26916757e-01,   3.75267005e-01],\n",
       "        [ -4.62538290e-01,   8.86599306e-01],\n",
       "        [  9.03976974e-01,  -4.95379113e-01],\n",
       "        [  3.45365054e-01,   9.38468422e-01],\n",
       "        [  8.20998618e-03,   3.72122838e-01],\n",
       "        [  1.22252093e+00,  -4.74927912e-01],\n",
       "        [  9.00968868e-01,   4.33883739e-01],\n",
       "        [  4.81607432e-01,  -3.55142763e-01],\n",
       "        [ -3.20515776e-02,   9.99486216e-01],\n",
       "        [ -4.04783343e-01,   9.14412623e-01],\n",
       "        [  1.98586378e-01,  -9.81105305e-02],\n",
       "        [  5.72116660e-01,   8.20172255e-01],\n",
       "        [ -2.22520934e-01,   9.74927912e-01],\n",
       "        [  9.97945393e-01,   6.40702200e-02],\n",
       "        [  1.61911895e-01,  -4.55349012e-02],\n",
       "        [ -5.72116660e-01,   8.20172255e-01],\n",
       "        [  1.76144596e+00,  -1.48228395e-01],\n",
       "        [  7.30832427e-02,   1.24732995e-01],\n",
       "        [ -7.18349350e-01,   6.95682551e-01],\n",
       "        [  1.98155916e+00,   3.08841371e-01],\n",
       "        [  7.77479066e-01,  -4.74927912e-01],\n",
       "        [  1.71834935e+00,  -1.95682551e-01],\n",
       "        [  0.00000000e+00,   5.00000000e-01],\n",
       "        [  1.03205158e+00,  -4.99486216e-01],\n",
       "        [  9.67294863e-01,   2.53654584e-01],\n",
       "        [ -5.18392568e-01,   8.55142763e-01],\n",
       "        [ -1.00000000e+00,   1.22464680e-16],\n",
       "        [ -7.61445958e-01,   6.48228395e-01],\n",
       "        [ -8.01413622e-01,   5.98110530e-01],\n",
       "        [ -9.67294863e-01,   2.53654584e-01],\n",
       "        [  8.01413622e-01,   5.98110530e-01],\n",
       "        [  1.87131870e+00,   9.28244800e-03],\n",
       "        [ -6.23489802e-01,   7.81831482e-01],\n",
       "        [  9.91790014e-01,   1.27877162e-01],\n",
       "        [  6.72300890e-01,   7.40277997e-01],\n",
       "        [  1.92691676e+00,   1.24732995e-01],\n",
       "        [  2.84527587e-01,   9.58667853e-01],\n",
       "        [ -8.71318704e-01,   4.90717552e-01],\n",
       "        [  4.62538290e-01,   8.86599306e-01],\n",
       "        [  1.83808810e+00,  -4.55349012e-02],\n",
       "        [  1.99179001e+00,   3.72122838e-01],\n",
       "        [ -6.72300890e-01,   7.40277997e-01],\n",
       "        [  5.09442530e-02,   1.84891782e-01],\n",
       "        [  2.22520934e-01,   9.74927912e-01],\n",
       "        [  4.04783343e-01,   9.14412623e-01],\n",
       "        [ -1.59599895e-01,   9.87181783e-01],\n",
       "        [ -2.84527587e-01,   9.58667853e-01],\n",
       "        [  1.34536505e+00,  -4.38468422e-01],\n",
       "        [ -3.45365054e-01,   9.38468422e-01],\n",
       "        [ -9.81559157e-01,   1.91158629e-01],\n",
       "        [  1.80141362e+00,  -9.81105305e-02],\n",
       "        [  1.00000000e+00,   0.00000000e+00],\n",
       "        [  7.61445958e-01,   6.48228395e-01],\n",
       "        [  9.90311321e-02,   6.61162609e-02],\n",
       "        [ -9.91790014e-01,   1.27877162e-01],\n",
       "        [  1.67230089e+00,  -2.40277997e-01],\n",
       "        [  1.57211666e+00,  -3.20172255e-01],\n",
       "        [  1.28452759e+00,  -4.58667853e-01],\n",
       "        [  6.54634946e-01,  -4.38468422e-01]]),\n",
       " array([1, 1, 1, 1, 1, 0, 1, 1, 1, 0, 0, 0, 1, 1, 0, 0, 1, 0, 0, 1, 1, 1, 0,\n",
       "        1, 1, 1, 1, 1, 0, 1, 0, 0, 0, 1, 1, 0, 0, 1, 1, 1, 0, 0, 0, 1, 0, 1,\n",
       "        1, 0, 1, 0, 0, 1, 0, 0, 0, 1, 0, 1, 1, 0, 1, 1, 1, 1, 1, 0, 0, 0, 0,\n",
       "        0, 0, 0, 1, 0, 0, 0, 1, 0, 0, 0, 1, 1, 0, 1, 0, 0, 0, 0, 1, 0, 0, 1,\n",
       "        0, 0, 1, 0, 1, 1, 1, 1]))"
      ]
     },
     "execution_count": 4,
     "metadata": {},
     "output_type": "execute_result"
    }
   ],
   "source": [
    "from sklearn.datasets import make_moons\n",
    "moons = make_moons()\n",
    "moons"
   ]
  },
  {
   "cell_type": "code",
   "execution_count": 44,
   "metadata": {
    "scrolled": true
   },
   "outputs": [
    {
     "name": "stdout",
     "output_type": "stream",
     "text": [
      "[(-5, 1), (-3, -4), (9, -3), (-7, -1), (5, -3), (6, 4), (-9, -6), (9, 6), (-10, -7), (9, -8)]\n"
     ]
    }
   ],
   "source": [
    "import random\n",
    "f = lambda x: 3 * x + 5\n",
    "\n",
    "def generate_datum(fn):\n",
    "    x = random.randint(-10, 10)\n",
    "    y = random.randint(-10, 10)\n",
    "    label = y > fn(x)\n",
    "    return x, y, label\n",
    "    \n",
    "def generate_data(fn, size):\n",
    "    return [ generate_datum(fn) for x in range(size)]\n",
    "\n",
    "data = generate_data(f, 10000)\n",
    "training_size = 8000\n",
    "training_set = data[:training_size]\n",
    "test_set = data[training_size:]\n",
    "\n",
    "def split_dataset(dataset):\n",
    "    x, y, label = [x for x in zip(*data)]\n",
    "    X = list(zip(x, y))\n",
    "    return X, label\n",
    "\n",
    "X_train, y_train = split_dataset(training_set)\n",
    "print(X[:10])\n",
    "X_test, y_test = split_dataset(test_set)"
   ]
  },
  {
   "cell_type": "code",
   "execution_count": 67,
   "metadata": {},
   "outputs": [
    {
     "data": {
      "text/plain": [
       "Pipeline(steps=(('scaler', StandardScaler(copy=True, with_mean=True, with_std=True)), ('linear_svc', LinearSVC(C=10.5, class_weight=None, dual=True, fit_intercept=True,\n",
       "     intercept_scaling=1, loss='squared_hinge', max_iter=1000,\n",
       "     multi_class='ovr', penalty='l2', random_state=None, tol=0.0001,\n",
       "     verbose=0))))"
      ]
     },
     "execution_count": 67,
     "metadata": {},
     "output_type": "execute_result"
    }
   ],
   "source": [
    "from sklearn.svm import LinearSVC\n",
    "from sklearn.pipeline import Pipeline\n",
    "from sklearn.preprocessing import StandardScaler\n",
    "\n",
    "linear_svc = LinearSVC(C=10.5, loss=\"hinge\")\n",
    "svm_classifier = Pipeline((\n",
    "    (\"scaler\", StandardScaler()),\n",
    "    (\"linear_svc\", linear_svc)\n",
    "))\n",
    "\n",
    "svm_classifier.fit(X, y)"
   ]
  },
  {
   "cell_type": "code",
   "execution_count": 68,
   "metadata": {},
   "outputs": [
    {
     "data": {
      "text/plain": [
       "array([ 1.,  1.,  1.])"
      ]
     },
     "execution_count": 68,
     "metadata": {},
     "output_type": "execute_result"
    }
   ],
   "source": [
    "from sklearn.model_selection import cross_val_score\n",
    "\n",
    "cross_val_score(svm_classifier, X_train, y_train, cv=3, scoring=\"accuracy\")"
   ]
  },
  {
   "cell_type": "code",
   "execution_count": 69,
   "metadata": {},
   "outputs": [
    {
     "name": "stdout",
     "output_type": "stream",
     "text": [
      "[-12.51434965   4.03662676] x +  -3.982054616\n"
     ]
    }
   ],
   "source": [
    "w = linear_svc.coef_[0]\n",
    "b = linear_svc.intercept_[0]\n",
    "print(w, \"x + \", b)"
   ]
  },
  {
   "cell_type": "code",
   "execution_count": 70,
   "metadata": {
    "collapsed": true
   },
   "outputs": [],
   "source": [
    "# To plot pretty figures\n",
    "%matplotlib inline\n",
    "import matplotlib\n",
    "import matplotlib.pyplot as plt\n",
    "\n",
    "def plot_svc_decision_boundary(svm_clf, xmin, xmax):\n",
    "    w = svm_clf.coef_[0]\n",
    "    b = svm_clf.intercept_[0]\n",
    "\n",
    "    # At the decision boundary, w0*x0 + w1*x1 + b = 0\n",
    "    # => x1 = -w0/w1 * x0 - b/w1\n",
    "    x0 = np.linspace(xmin, xmax, 200)\n",
    "    decision_boundary = -w[0]/w[1] * x0 - b/w[1]\n",
    "\n",
    "    margin = 1/w[1]\n",
    "    gutter_up = decision_boundary + margin\n",
    "    gutter_down = decision_boundary - margin\n",
    "\n",
    "    svs = svm_clf.support_vectors_\n",
    "    plt.scatter(svs[:, 0], svs[:, 1], s=180, facecolors='#FFAAAA')\n",
    "    plt.plot(x0, decision_boundary, \"k-\", linewidth=2)\n",
    "    plt.plot(x0, gutter_up, \"k--\", linewidth=2)\n",
    "    plt.plot(x0, gutter_down, \"k--\", linewidth=2)"
   ]
  },
  {
   "cell_type": "code",
   "execution_count": 71,
   "metadata": {},
   "outputs": [
    {
     "name": "stdout",
     "output_type": "stream",
     "text": [
      "0.929\n"
     ]
    }
   ],
   "source": [
    "y_pred = linear_svc.predict(X_test)\n",
    "n_correct = sum(y_pred == y_test)\n",
    "print(n_correct / len(y_pred))"
   ]
  },
  {
   "cell_type": "code",
   "execution_count": null,
   "metadata": {
    "collapsed": true
   },
   "outputs": [],
   "source": []
  }
 ],
 "metadata": {
  "kernelspec": {
   "display_name": "Python 3",
   "language": "python",
   "name": "python3"
  },
  "language_info": {
   "codemirror_mode": {
    "name": "ipython",
    "version": 3
   },
   "file_extension": ".py",
   "mimetype": "text/x-python",
   "name": "python",
   "nbconvert_exporter": "python",
   "pygments_lexer": "ipython3",
   "version": "3.5.2"
  }
 },
 "nbformat": 4,
 "nbformat_minor": 2
}
