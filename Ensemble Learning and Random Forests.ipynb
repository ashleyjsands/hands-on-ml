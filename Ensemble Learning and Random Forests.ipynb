{
 "cells": [
  {
   "cell_type": "code",
   "execution_count": 1,
   "metadata": {
    "collapsed": true
   },
   "outputs": [],
   "source": [
    "from sklearn.datasets import fetch_mldata\n",
    "mnist = fetch_mldata('MNIST original')"
   ]
  },
  {
   "cell_type": "code",
   "execution_count": 2,
   "metadata": {
    "collapsed": true
   },
   "outputs": [],
   "source": [
    "X, y = mnist[\"data\"], mnist[\"target\"]"
   ]
  },
  {
   "cell_type": "code",
   "execution_count": 3,
   "metadata": {},
   "outputs": [
    {
     "name": "stdout",
     "output_type": "stream",
     "text": [
      "(70000, 784) (70000,)\n"
     ]
    }
   ],
   "source": [
    "print(X.shape, y.shape)"
   ]
  },
  {
   "cell_type": "code",
   "execution_count": 4,
   "metadata": {},
   "outputs": [
    {
     "data": {
      "image/png": "[encoded data removed]",
      "text/plain": [
       "<matplotlib.figure.Figure at 0x7f1bec10b668>"
      ]
     },
     "metadata": {},
     "output_type": "display_data"
    }
   ],
   "source": [
    "%matplotlib inline\n",
    "import matplotlib\n",
    "import matplotlib.pyplot as plt\n",
    "\n",
    "some_digit = X[36000]\n",
    "some_digit_image = some_digit.reshape(28, 28)\n",
    "\n",
    "plt.imshow(some_digit_image, cmap = matplotlib.cm.binary, interpolation=\"nearest\")\n",
    "plt.axis(\"off\")\n",
    "plt.show()"
   ]
  },
  {
   "cell_type": "code",
   "execution_count": 5,
   "metadata": {},
   "outputs": [
    {
     "name": "stdout",
     "output_type": "stream",
     "text": [
      "sizes: 50000 10000 10000\n"
     ]
    }
   ],
   "source": [
    "training_size = 50000\n",
    "validation_size = 10000\n",
    "test_size = 10000\n",
    "X_train, X_validation, X_test = X[:training_size], X[training_size:training_size + validation_size], X[training_size + validation_size:]\n",
    "print(\"sizes:\", len(X_train), len(X_validation), len(X_test))\n",
    "y_train, y_validation, y_test = y[:training_size], y[training_size:training_size + validation_size], y[training_size + validation_size:]\n",
    "\n",
    "import numpy as np\n",
    "\n",
    "shuffle_index = np.random.permutation(training_size)\n",
    "X_train, y_train = X_train[shuffle_index], y_train[shuffle_index]"
   ]
  },
  {
   "cell_type": "code",
   "execution_count": 6,
   "metadata": {
    "collapsed": true
   },
   "outputs": [],
   "source": [
    "from sklearn.ensemble import RandomForestClassifier\n",
    "\n",
    "rnd_clf = RandomForestClassifier(n_jobs=-1)\n",
    "rnd_clf.fit(X_train, y_train)\n",
    "\n",
    "y_pred_rf = rnd_clf.predict(X_validation)\n",
    "val_correct_percentage = sum(y_pred_rf == y_validation) / len(y_validation) * 100"
   ]
  },
  {
   "cell_type": "code",
   "execution_count": 7,
   "metadata": {},
   "outputs": [
    {
     "name": "stdout",
     "output_type": "stream",
     "text": [
      "30.93\n"
     ]
    }
   ],
   "source": [
    "print(val_correct_percentage)"
   ]
  },
  {
   "cell_type": "code",
   "execution_count": 21,
   "metadata": {},
   "outputs": [
    {
     "data": {
      "text/plain": [
       "GridSearchCV(cv=5, error_score='raise',\n",
       "       estimator=RandomForestClassifier(bootstrap=True, class_weight=None, criterion='gini',\n",
       "            max_depth=None, max_features='auto', max_leaf_nodes=128,\n",
       "            min_impurity_split=1e-07, min_samples_leaf=1,\n",
       "            min_samples_split=2, min_weight_fraction_leaf=0.0,\n",
       "            n_estimators=500, n_jobs=-1, oob_score=False,\n",
       "            random_state=None, verbose=0, warm_start=False),\n",
       "       fit_params={}, iid=True, n_jobs=1,\n",
       "       param_grid={'max_leaf_nodes': [64, 128, 256, 512, 1024, 2048], 'n_estimators': [64, 128, 256, 512, 1024, 2048]},\n",
       "       pre_dispatch='2*n_jobs', refit=True, return_train_score=True,\n",
       "       scoring='neg_mean_squared_error', verbose=0)"
      ]
     },
     "execution_count": 21,
     "metadata": {},
     "output_type": "execute_result"
    }
   ],
   "source": [
    "from sklearn.model_selection import GridSearchCV\n",
    "\n",
    "param_distribs = {\n",
    "    'n_estimators': [64, 128, 256, 512, 1024, 2048],\n",
    "    'max_leaf_nodes': [64, 128, 256, 512, 1024, 2048]\n",
    "}\n",
    "\n",
    "grid_search_one = GridSearchCV(rnd_clf, param_distribs, cv=5, scoring=\"neg_mean_squared_error\")\n",
    "grid_search_one.fit(X_train, y_train)"
   ]
  },
  {
   "cell_type": "code",
   "execution_count": 22,
   "metadata": {},
   "outputs": [
    {
     "data": {
      "text/plain": [
       "RandomForestClassifier(bootstrap=True, class_weight=None, criterion='gini',\n",
       "            max_depth=None, max_features='auto', max_leaf_nodes=2048,\n",
       "            min_impurity_split=1e-07, min_samples_leaf=1,\n",
       "            min_samples_split=2, min_weight_fraction_leaf=0.0,\n",
       "            n_estimators=512, n_jobs=-1, oob_score=False,\n",
       "            random_state=None, verbose=0, warm_start=False)"
      ]
     },
     "execution_count": 22,
     "metadata": {},
     "output_type": "execute_result"
    }
   ],
   "source": [
    "grid_search_one.best_estimator_"
   ]
  },
  {
   "cell_type": "code",
   "execution_count": 8,
   "metadata": {
    "collapsed": true
   },
   "outputs": [],
   "source": [
    "from sklearn.model_selection import cross_val_score\n",
    "\n",
    "def display_scores(scores):\n",
    "    print(\"Scores:\", scores)\n",
    "    print(\"Mean:\", scores.mean())\n",
    "    print(\"Standard deviation:\", scores.std())\n",
    "    \n",
    "def cross_val_scores(regressor):\n",
    "    scores = cross_val_score(regressor, X_train, y_train, scoring=\"neg_mean_squared_error\", cv=10)\n",
    "    rmse_scores = np.sqrt(-scores)\n",
    "    display_scores(rmse_scores)\n",
    "    return rmse_scores"
   ]
  },
  {
   "cell_type": "code",
   "execution_count": 24,
   "metadata": {},
   "outputs": [
    {
     "name": "stdout",
     "output_type": "stream",
     "text": [
      "Scores: [ 0.62769897  0.61981408  0.70618713  0.60216277  0.64915329  0.64937226\n",
      "  0.57555734  0.59688462  0.6534954   0.58412732]\n",
      "Mean: 0.626445318605\n",
      "Standard deviation: 0.0374448677151\n"
     ]
    },
    {
     "data": {
      "text/plain": [
       "array([ 0.62769897,  0.61981408,  0.70618713,  0.60216277,  0.64915329,\n",
       "        0.64937226,  0.57555734,  0.59688462,  0.6534954 ,  0.58412732])"
      ]
     },
     "execution_count": 24,
     "metadata": {},
     "output_type": "execute_result"
    }
   ],
   "source": [
    "cross_val_scores(grid_search_one.best_estimator_)"
   ]
  },
  {
   "cell_type": "code",
   "execution_count": 25,
   "metadata": {},
   "outputs": [
    {
     "data": {
      "text/plain": [
       "RandomForestClassifier(bootstrap=True, class_weight=None, criterion='gini',\n",
       "            max_depth=None, max_features='auto', max_leaf_nodes=8192,\n",
       "            min_impurity_split=1e-07, min_samples_leaf=1,\n",
       "            min_samples_split=2, min_weight_fraction_leaf=0.0,\n",
       "            n_estimators=512, n_jobs=-1, oob_score=False,\n",
       "            random_state=None, verbose=0, warm_start=False)"
      ]
     },
     "execution_count": 25,
     "metadata": {},
     "output_type": "execute_result"
    }
   ],
   "source": [
    "param_distribs = {\n",
    "    'n_estimators': [400, 512, 600],\n",
    "    'max_leaf_nodes': [2048, 4096, 8192]\n",
    "}\n",
    "\n",
    "grid_search_two = GridSearchCV(rnd_clf, param_distribs, cv=5, scoring=\"neg_mean_squared_error\")\n",
    "grid_search_two.fit(X_train, y_train)\n",
    "grid_search_two.best_estimator_"
   ]
  },
  {
   "cell_type": "code",
   "execution_count": 26,
   "metadata": {},
   "outputs": [
    {
     "name": "stdout",
     "output_type": "stream",
     "text": [
      "Scores: [ 0.58194616  0.57358748  0.63931077  0.59866518  0.57358522  0.60784364\n",
      "  0.54594836  0.56112652  0.60416803  0.53625791]\n",
      "Mean: 0.582243927493\n",
      "Standard deviation: 0.0294793430314\n"
     ]
    },
    {
     "data": {
      "text/plain": [
       "array([ 0.58194616,  0.57358748,  0.63931077,  0.59866518,  0.57358522,\n",
       "        0.60784364,  0.54594836,  0.56112652,  0.60416803,  0.53625791])"
      ]
     },
     "execution_count": 26,
     "metadata": {},
     "output_type": "execute_result"
    }
   ],
   "source": [
    "cross_val_scores(grid_search_two.best_estimator_)"
   ]
  },
  {
   "cell_type": "code",
   "execution_count": 27,
   "metadata": {},
   "outputs": [
    {
     "data": {
      "text/plain": [
       "RandomForestClassifier(bootstrap=True, class_weight=None, criterion='gini',\n",
       "            max_depth=None, max_features='auto', max_leaf_nodes=35000,\n",
       "            min_impurity_split=1e-07, min_samples_leaf=1,\n",
       "            min_samples_split=2, min_weight_fraction_leaf=0.0,\n",
       "            n_estimators=384, n_jobs=-1, oob_score=False,\n",
       "            random_state=None, verbose=0, warm_start=False)"
      ]
     },
     "execution_count": 27,
     "metadata": {},
     "output_type": "execute_result"
    }
   ],
   "source": [
    "param_distribs = {\n",
    "    'n_estimators': [384, 512, 648],\n",
    "    'max_leaf_nodes': [2048, 2500, 3000, 35000]\n",
    "}\n",
    "\n",
    "grid_search_three = GridSearchCV(rnd_clf, param_distribs, cv=5, scoring=\"neg_mean_squared_error\")\n",
    "grid_search_three.fit(X_train, y_train)\n",
    "grid_search_three.best_estimator_"
   ]
  },
  {
   "cell_type": "code",
   "execution_count": 28,
   "metadata": {},
   "outputs": [
    {
     "name": "stdout",
     "output_type": "stream",
     "text": [
      "Scores: [ 0.60202788  0.5704426   0.65200842  0.58343809  0.58120564  0.62456226\n",
      "  0.53689631  0.57607844  0.59347395  0.52627576]\n",
      "Mean: 0.584640934817\n",
      "Standard deviation: 0.0353364073796\n"
     ]
    },
    {
     "data": {
      "text/plain": [
       "array([ 0.60202788,  0.5704426 ,  0.65200842,  0.58343809,  0.58120564,\n",
       "        0.62456226,  0.53689631,  0.57607844,  0.59347395,  0.52627576])"
      ]
     },
     "execution_count": 28,
     "metadata": {},
     "output_type": "execute_result"
    }
   ],
   "source": [
    "cross_val_scores(grid_search_three.best_estimator_)"
   ]
  },
  {
   "cell_type": "code",
   "execution_count": 10,
   "metadata": {
    "collapsed": true
   },
   "outputs": [],
   "source": [
    "def predict_validation_data(clf):\n",
    "    y_pred_rf = clf.predict(X_validation)\n",
    "    return sum(y_pred_rf == y_validation) / len(y_validation) * 100"
   ]
  },
  {
   "cell_type": "code",
   "execution_count": 31,
   "metadata": {},
   "outputs": [
    {
     "name": "stdout",
     "output_type": "stream",
     "text": [
      "34.89\n",
      "35.56\n",
      "35.41\n"
     ]
    }
   ],
   "source": [
    "print(predict_validation_data(grid_search_one.best_estimator_))\n",
    "print(predict_validation_data(grid_search_two.best_estimator_))\n",
    "print(predict_validation_data(grid_search_three.best_estimator_))"
   ]
  },
  {
   "cell_type": "code",
   "execution_count": 32,
   "metadata": {},
   "outputs": [
    {
     "name": "stdout",
     "output_type": "stream",
     "text": [
      "35.38\n",
      "35.46\n",
      "35.55\n",
      "35.5\n"
     ]
    }
   ],
   "source": [
    "rnd_clf = RandomForestClassifier(max_leaf_nodes=9000, n_estimators=512, n_jobs=-1)\n",
    "rnd_clf.fit(X_train, y_train)\n",
    "print(predict_validation_data(rnd_clf))\n",
    "\n",
    "rnd_clf = RandomForestClassifier(max_leaf_nodes=8192, n_estimators=600, n_jobs=-1)\n",
    "rnd_clf.fit(X_train, y_train)\n",
    "print(predict_validation_data(rnd_clf))\n",
    "\n",
    "rnd_clf = RandomForestClassifier(max_leaf_nodes=7000, n_estimators=512, n_jobs=-1)\n",
    "rnd_clf.fit(X_train, y_train)\n",
    "print(predict_validation_data(rnd_clf))\n",
    "\n",
    "rnd_clf = RandomForestClassifier(max_leaf_nodes=8192, n_estimators=400, n_jobs=-1)\n",
    "rnd_clf.fit(X_train, y_train)\n",
    "print(predict_validation_data(rnd_clf))"
   ]
  },
  {
   "cell_type": "code",
   "execution_count": 54,
   "metadata": {},
   "outputs": [
    {
     "name": "stdout",
     "output_type": "stream",
     "text": [
      "35.58\n"
     ]
    }
   ],
   "source": [
    "rnd_clf = RandomForestClassifier(max_leaf_nodes=6000, n_estimators=512, n_jobs=-1)\n",
    "rnd_clf.fit(X_train, y_train)\n",
    "print(predict_validation_data(rnd_clf))"
   ]
  },
  {
   "cell_type": "code",
   "execution_count": 13,
   "metadata": {},
   "outputs": [
    {
     "name": "stdout",
     "output_type": "stream",
     "text": [
      "35.37\n"
     ]
    }
   ],
   "source": [
    "from sklearn.ensemble import ExtraTreesClassifier\n",
    "\n",
    "x_trees_clf = ExtraTreesClassifier(max_leaf_nodes=6000, n_estimators=512, n_jobs=-1)\n",
    "x_trees_clf.fit(X_train, y_train)\n",
    "print(predict_validation_data(x_trees_clf))"
   ]
  },
  {
   "cell_type": "code",
   "execution_count": 58,
   "metadata": {},
   "outputs": [
    {
     "name": "stdout",
     "output_type": "stream",
     "text": [
      "35.09\n",
      "35.59\n",
      "35.34\n",
      "35.24\n"
     ]
    }
   ],
   "source": [
    "x_trees_clf = ExtraTreesClassifier(max_leaf_nodes=5000, n_estimators=512, n_jobs=-1)\n",
    "x_trees_clf.fit(X_train, y_train)\n",
    "print(predict_validation_data(x_trees_clf))\n",
    "\n",
    "x_trees_clf = ExtraTreesClassifier(max_leaf_nodes=7000, n_estimators=512, n_jobs=-1)\n",
    "x_trees_clf.fit(X_train, y_train)\n",
    "print(predict_validation_data(x_trees_clf))\n",
    "\n",
    "x_trees_clf = ExtraTreesClassifier(max_leaf_nodes=6000, n_estimators=256, n_jobs=-1)\n",
    "x_trees_clf.fit(X_train, y_train)\n",
    "print(predict_validation_data(x_trees_clf))\n",
    "\n",
    "x_trees_clf = ExtraTreesClassifier(max_leaf_nodes=6000, n_estimators=1024, n_jobs=-1)\n",
    "x_trees_clf.fit(X_train, y_train)\n",
    "print(predict_validation_data(x_trees_clf))"
   ]
  },
  {
   "cell_type": "code",
   "execution_count": 60,
   "metadata": {},
   "outputs": [
    {
     "name": "stdout",
     "output_type": "stream",
     "text": [
      "35.62\n",
      "35.69\n",
      "35.64\n"
     ]
    }
   ],
   "source": [
    "x_trees_clf = ExtraTreesClassifier(max_leaf_nodes=8000, n_estimators=512, n_jobs=-1)\n",
    "x_trees_clf.fit(X_train, y_train)\n",
    "print(predict_validation_data(x_trees_clf))\n",
    "\n",
    "x_trees_clf = ExtraTreesClassifier(max_leaf_nodes=9000, n_estimators=512, n_jobs=-1)\n",
    "x_trees_clf.fit(X_train, y_train)\n",
    "print(predict_validation_data(x_trees_clf))\n",
    "\n",
    "x_trees_clf = ExtraTreesClassifier(max_leaf_nodes=10000, n_estimators=512, n_jobs=-1)\n",
    "x_trees_clf.fit(X_train, y_train)\n",
    "print(predict_validation_data(x_trees_clf))"
   ]
  },
  {
   "cell_type": "code",
   "execution_count": 62,
   "metadata": {},
   "outputs": [
    {
     "name": "stdout",
     "output_type": "stream",
     "text": [
      "35.7\n",
      "35.64\n"
     ]
    }
   ],
   "source": [
    "x_trees_clf = ExtraTreesClassifier(max_leaf_nodes=9500, n_estimators=512, n_jobs=-1)\n",
    "x_trees_clf.fit(X_train, y_train)\n",
    "print(predict_validation_data(x_trees_clf))\n",
    "\n",
    "x_trees_clf = ExtraTreesClassifier(max_leaf_nodes=11000, n_estimators=512, n_jobs=-1)\n",
    "x_trees_clf.fit(X_train, y_train)\n",
    "print(predict_validation_data(x_trees_clf))"
   ]
  },
  {
   "cell_type": "code",
   "execution_count": 64,
   "metadata": {},
   "outputs": [
    {
     "name": "stdout",
     "output_type": "stream",
     "text": [
      "35.64\n",
      "35.58\n"
     ]
    }
   ],
   "source": [
    "x_trees_clf = ExtraTreesClassifier(max_leaf_nodes=9250, n_estimators=512, n_jobs=-1)\n",
    "x_trees_clf.fit(X_train, y_train)\n",
    "print(predict_validation_data(x_trees_clf))\n",
    "\n",
    "x_trees_clf = ExtraTreesClassifier(max_leaf_nodes=9750, n_estimators=512, n_jobs=-1)\n",
    "x_trees_clf.fit(X_train, y_train)\n",
    "print(predict_validation_data(x_trees_clf))"
   ]
  },
  {
   "cell_type": "code",
   "execution_count": 66,
   "metadata": {},
   "outputs": [
    {
     "name": "stdout",
     "output_type": "stream",
     "text": [
      "35.58\n"
     ]
    }
   ],
   "source": [
    "x_trees_clf = ExtraTreesClassifier(max_leaf_nodes=9500, n_estimators=512, n_jobs=-1)\n",
    "x_trees_clf.fit(X_train, y_train)\n",
    "print(predict_validation_data(x_trees_clf))"
   ]
  },
  {
   "cell_type": "code",
   "execution_count": 14,
   "metadata": {},
   "outputs": [
    {
     "name": "stderr",
     "output_type": "stream",
     "text": [
      "/home/ashley/ml/env/lib/python3.5/site-packages/sklearn/utils/validation.py:429: DataConversionWarning: Data with input dtype uint8 was converted to float64 by StandardScaler.\n",
      "  warnings.warn(msg, _DataConversionWarning)\n"
     ]
    },
    {
     "name": "stdout",
     "output_type": "stream",
     "text": [
      "29.31\n"
     ]
    }
   ],
   "source": [
    "from sklearn.svm import LinearSVC\n",
    "from sklearn.pipeline import Pipeline\n",
    "from sklearn.preprocessing import StandardScaler\n",
    "\n",
    "svm_classifier = Pipeline((\n",
    "    (\"scaler\", StandardScaler()),\n",
    "    (\"linear_svc\", LinearSVC(C=10.5, loss=\"hinge\"))\n",
    "))\n",
    "\n",
    "svm_classifier.fit(X_train, y_train)\n",
    "print(predict_validation_data(svm_classifier))"
   ]
  },
  {
   "cell_type": "code",
   "execution_count": 70,
   "metadata": {},
   "outputs": [
    {
     "name": "stderr",
     "output_type": "stream",
     "text": [
      "/home/ashley/ml/env/lib/python3.5/site-packages/sklearn/utils/validation.py:429: DataConversionWarning: Data with input dtype uint8 was converted to float64 by StandardScaler.\n",
      "  warnings.warn(msg, _DataConversionWarning)\n"
     ]
    },
    {
     "name": "stdout",
     "output_type": "stream",
     "text": [
      "28.54\n"
     ]
    },
    {
     "name": "stderr",
     "output_type": "stream",
     "text": [
      "/home/ashley/ml/env/lib/python3.5/site-packages/sklearn/utils/validation.py:429: DataConversionWarning: Data with input dtype uint8 was converted to float64 by StandardScaler.\n",
      "  warnings.warn(msg, _DataConversionWarning)\n"
     ]
    },
    {
     "name": "stdout",
     "output_type": "stream",
     "text": [
      "25.56\n"
     ]
    }
   ],
   "source": [
    "svm_classifier = Pipeline((\n",
    "    (\"scaler\", StandardScaler()),\n",
    "    (\"linear_svc\", LinearSVC(C=10.0, loss=\"hinge\"))\n",
    "))\n",
    "\n",
    "svm_classifier.fit(X_train, y_train)\n",
    "print(predict_validation_data(svm_classifier))\n",
    "\n",
    "svm_classifier = Pipeline((\n",
    "    (\"scaler\", StandardScaler()),\n",
    "    (\"linear_svc\", LinearSVC(C=11.0, loss=\"hinge\"))\n",
    "))\n",
    "\n",
    "svm_classifier.fit(X_train, y_train)\n",
    "print(predict_validation_data(svm_classifier))"
   ]
  },
  {
   "cell_type": "code",
   "execution_count": 72,
   "metadata": {},
   "outputs": [
    {
     "name": "stderr",
     "output_type": "stream",
     "text": [
      "/home/ashley/ml/env/lib/python3.5/site-packages/sklearn/utils/validation.py:429: DataConversionWarning: Data with input dtype uint8 was converted to float64 by StandardScaler.\n",
      "  warnings.warn(msg, _DataConversionWarning)\n"
     ]
    },
    {
     "data": {
      "text/plain": [
       "Pipeline(steps=(('scaler', StandardScaler(copy=True, with_mean=True, with_std=True)), ('linear_svc', LinearSVC(C=10.5, class_weight=None, dual=True, fit_intercept=True,\n",
       "     intercept_scaling=1, loss='hinge', max_iter=1000, multi_class='ovr',\n",
       "     penalty='l2', random_state=None, tol=0.0001, verbose=0))))"
      ]
     },
     "execution_count": 72,
     "metadata": {},
     "output_type": "execute_result"
    }
   ],
   "source": [
    "svm_classifier = Pipeline((\n",
    "    (\"scaler\", StandardScaler()),\n",
    "    (\"linear_svc\", LinearSVC(C=10.5, loss=\"hinge\"))\n",
    "))\n",
    "\n",
    "svm_classifier.fit(X_train, y_train)"
   ]
  },
  {
   "cell_type": "code",
   "execution_count": 76,
   "metadata": {},
   "outputs": [
    {
     "name": "stderr",
     "output_type": "stream",
     "text": [
      "/home/ashley/ml/env/lib/python3.5/site-packages/sklearn/utils/validation.py:429: DataConversionWarning: Data with input dtype uint8 was converted to float64 by StandardScaler.\n",
      "  warnings.warn(msg, _DataConversionWarning)\n"
     ]
    },
    {
     "name": "stdout",
     "output_type": "stream",
     "text": [
      "25.96\n"
     ]
    }
   ],
   "source": [
    "from sklearn.svm import SVC\n",
    "\n",
    "svm_classifier = Pipeline((\n",
    "    (\"scaler\", StandardScaler()),\n",
    "    (\"svc\", LinearSVC(C=11.0, loss=\"hinge\"))\n",
    "))\n",
    "\n",
    "\n",
    "svm_classifier.fit(X_train, y_train)\n",
    "print(predict_validation_data(svm_classifier))"
   ]
  },
  {
   "cell_type": "code",
   "execution_count": null,
   "metadata": {
    "collapsed": true
   },
   "outputs": [],
   "source": []
  },
  {
   "cell_type": "code",
   "execution_count": null,
   "metadata": {
    "collapsed": true
   },
   "outputs": [],
   "source": []
  },
  {
   "cell_type": "code",
   "execution_count": 11,
   "metadata": {
    "collapsed": true
   },
   "outputs": [],
   "source": [
    "from sklearn.ensemble import VotingClassifier"
   ]
  },
  {
   "cell_type": "code",
   "execution_count": 73,
   "metadata": {},
   "outputs": [
    {
     "name": "stderr",
     "output_type": "stream",
     "text": [
      "/home/ashley/ml/env/lib/python3.5/site-packages/sklearn/utils/validation.py:429: DataConversionWarning: Data with input dtype uint8 was converted to float64 by StandardScaler.\n",
      "  warnings.warn(msg, _DataConversionWarning)\n"
     ]
    },
    {
     "name": "stdout",
     "output_type": "stream",
     "text": [
      "35.25\n"
     ]
    }
   ],
   "source": [
    "hard_voting_clf = VotingClassifier(\n",
    "    estimators=[(\"rnd_tree\", rnd_clf), (\"x_trees\", x_trees_clf), (\"svc\", svm_classifier)],\n",
    "    voting=\"hard\"\n",
    ")\n",
    "hard_voting_clf.fit(X_train, y_train)\n",
    "print(predict_validation_data(hard_voting_clf))"
   ]
  },
  {
   "cell_type": "markdown",
   "metadata": {},
   "source": [
    "This hard voting classifier performed worse than the best classifier, the extra trees model, with a performance of 35.7%."
   ]
  },
  {
   "cell_type": "code",
   "execution_count": 15,
   "metadata": {
    "scrolled": true
   },
   "outputs": [
    {
     "name": "stdout",
     "output_type": "stream",
     "text": [
      "34.57\n"
     ]
    }
   ],
   "source": [
    "soft_voting_clf = VotingClassifier(\n",
    "    estimators=[(\"rnd_tree\", rnd_clf), (\"x_trees\", x_trees_clf)],\n",
    "    voting=\"soft\"\n",
    ")\n",
    "soft_voting_clf.fit(X_train, y_train)\n",
    "print(predict_validation_data(soft_voting_clf))"
   ]
  },
  {
   "cell_type": "markdown",
   "metadata": {},
   "source": [
    "Soft voting do more poorly for some unknown reason.\n",
    "\n",
    "Let's try optimise the best model, the Extra Trees model, again to get better performance. This time testing different hyperparameters."
   ]
  },
  {
   "cell_type": "code",
   "execution_count": 17,
   "metadata": {},
   "outputs": [
    {
     "name": "stdout",
     "output_type": "stream",
     "text": [
      "35.74\n"
     ]
    }
   ],
   "source": [
    "x_trees_clf = ExtraTreesClassifier(max_leaf_nodes=9500, n_estimators=512, n_jobs=-1)\n",
    "x_trees_clf.fit(X_train, y_train)\n",
    "print(predict_validation_data(x_trees_clf))"
   ]
  },
  {
   "cell_type": "code",
   "execution_count": 18,
   "metadata": {},
   "outputs": [
    {
     "name": "stdout",
     "output_type": "stream",
     "text": [
      "36.12\n"
     ]
    }
   ],
   "source": [
    "x_trees_clf = ExtraTreesClassifier(max_leaf_nodes=9500, n_estimators=512, n_jobs=-1, max_features=50)\n",
    "x_trees_clf.fit(X_train, y_train)\n",
    "print(predict_validation_data(x_trees_clf))"
   ]
  },
  {
   "cell_type": "code",
   "execution_count": null,
   "metadata": {
    "collapsed": true
   },
   "outputs": [],
   "source": [
    "Adding max_features=50 improved performance."
   ]
  },
  {
   "cell_type": "code",
   "execution_count": 20,
   "metadata": {},
   "outputs": [
    {
     "name": "stdout",
     "output_type": "stream",
     "text": [
      "36.21\n",
      "36.37\n"
     ]
    }
   ],
   "source": [
    "x_trees_clf = ExtraTreesClassifier(max_leaf_nodes=9500, n_estimators=512, n_jobs=-1, max_features=45)\n",
    "x_trees_clf.fit(X_train, y_train)\n",
    "print(predict_validation_data(x_trees_clf))\n",
    "\n",
    "x_trees_clf = ExtraTreesClassifier(max_leaf_nodes=9500, n_estimators=512, n_jobs=-1, max_features=55)\n",
    "x_trees_clf.fit(X_train, y_train)\n",
    "print(predict_validation_data(x_trees_clf))"
   ]
  },
  {
   "cell_type": "code",
   "execution_count": 22,
   "metadata": {},
   "outputs": [
    {
     "name": "stdout",
     "output_type": "stream",
     "text": [
      "36.71\n"
     ]
    }
   ],
   "source": [
    "x_trees_clf = ExtraTreesClassifier(max_leaf_nodes=9500, n_estimators=512, n_jobs=-1, max_features=100)\n",
    "x_trees_clf.fit(X_train, y_train)\n",
    "print(predict_validation_data(x_trees_clf))"
   ]
  },
  {
   "cell_type": "code",
   "execution_count": 24,
   "metadata": {},
   "outputs": [
    {
     "name": "stdout",
     "output_type": "stream",
     "text": [
      "36.91\n"
     ]
    }
   ],
   "source": [
    "x_trees_clf = ExtraTreesClassifier(max_leaf_nodes=9500, n_estimators=512, n_jobs=-1, max_features=200)\n",
    "x_trees_clf.fit(X_train, y_train)\n",
    "print(predict_validation_data(x_trees_clf))"
   ]
  },
  {
   "cell_type": "code",
   "execution_count": null,
   "metadata": {
    "collapsed": true
   },
   "outputs": [],
   "source": [
    "x_trees_clf = ExtraTreesClassifier(max_leaf_nodes=9500, n_estimators=512, n_jobs=-1, max_features=400)\n",
    "x_trees_clf.fit(X_train, y_train)\n",
    "print(predict_validation_data(x_trees_clf))"
   ]
  },
  {
   "cell_type": "markdown",
   "metadata": {},
   "source": [
    "Trying another attempt at Random Forests."
   ]
  },
  {
   "cell_type": "code",
   "execution_count": 11,
   "metadata": {},
   "outputs": [
    {
     "name": "stdout",
     "output_type": "stream",
     "text": [
      "30.18\n"
     ]
    }
   ],
   "source": [
    "from sklearn.ensemble import RandomForestClassifier\n",
    "\n",
    "rnd_clf = RandomForestClassifier()\n",
    "rnd_clf.fit(X_train, y_train)\n",
    "print(predict_validation_data(rnd_clf))"
   ]
  },
  {
   "cell_type": "code",
   "execution_count": null,
   "metadata": {
    "collapsed": true
   },
   "outputs": [],
   "source": [
    "import os\n",
    "os.system(\"beep -f 555 -l 460\")"
   ]
  },
  {
   "cell_type": "code",
   "execution_count": null,
   "metadata": {
    "collapsed": true
   },
   "outputs": [],
   "source": []
  }
 ],
 "metadata": {
  "kernelspec": {
   "display_name": "Python 3",
   "language": "python",
   "name": "python3"
  },
  "language_info": {
   "codemirror_mode": {
    "name": "ipython",
    "version": 3
   },
   "file_extension": ".py",
   "mimetype": "text/x-python",
   "name": "python",
   "nbconvert_exporter": "python",
   "pygments_lexer": "ipython3",
   "version": "3.5.2"
  }
 },
 "nbformat": 4,
 "nbformat_minor": 2
}
