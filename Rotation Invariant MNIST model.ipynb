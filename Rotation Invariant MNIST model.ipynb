{
 "cells": [
  {
   "cell_type": "markdown",
   "metadata": {},
   "source": [
    "Rotation Invariant MNIST Model\n",
    "===\n",
    "The idea of this model is to make it rotation invariant, or in other words, able to identified images at different rotations. So first we will created some rotated training data by rotating all of the mnist images at different angles, then we will create a model that is rotation invariant and train it on the data."
   ]
  },
  {
   "cell_type": "code",
   "execution_count": 1,
   "metadata": {
    "scrolled": true
   },
   "outputs": [
    {
     "data": {
      "application/javascript": [
       "IPython.notebook.set_autosave_interval(60000)"
      ]
     },
     "metadata": {},
     "output_type": "display_data"
    },
    {
     "name": "stdout",
     "output_type": "stream",
     "text": [
      "Autosaving every 60 seconds\n",
      "Extracting /tmp/data/train-images-idx3-ubyte.gz\n",
      "Extracting /tmp/data/train-labels-idx1-ubyte.gz\n",
      "Extracting /tmp/data/t10k-images-idx3-ubyte.gz\n",
      "Extracting /tmp/data/t10k-labels-idx1-ubyte.gz\n"
     ]
    },
    {
     "data": {
      "image/png": "[encoded data removed]",
      "text/plain": [
       "<matplotlib.figure.Figure at 0x7fe34a0df828>"
      ]
     },
     "metadata": {},
     "output_type": "display_data"
    },
    {
     "name": "stdout",
     "output_type": "stream",
     "text": [
      "Rotating images with shape (55000, 28, 28, 1) for angle 90.0\n",
      "Rotating images with shape (55000, 28, 28, 1) for angle 180.0\n",
      "Rotating images with shape (55000, 28, 28, 1) for angle 270.0\n",
      "Rotating images with shape (5000, 28, 28, 1) for angle 90.0\n",
      "Rotating images with shape (5000, 28, 28, 1) for angle 180.0\n",
      "Rotating images with shape (5000, 28, 28, 1) for angle 270.0\n",
      "Rotating images with shape (10000, 28, 28, 1) for angle 90.0\n",
      "Rotating images with shape (10000, 28, 28, 1) for angle 180.0\n",
      "Rotating images with shape (10000, 28, 28, 1) for angle 270.0\n",
      "1\n"
     ]
    },
    {
     "data": {
      "image/png": "[encoded data removed]",
      "text/plain": [
       "<matplotlib.figure.Figure at 0x7fe2d3662940>"
      ]
     },
     "metadata": {},
     "output_type": "display_data"
    },
    {
     "name": "stdout",
     "output_type": "stream",
     "text": [
      "Finished generating images\n"
     ]
    }
   ],
   "source": [
    "%autosave 60\n",
    "\n",
    "import math\n",
    "import pickle\n",
    "import tensorflow as tf\n",
    "import numpy as np\n",
    "from tensorflow.contrib.layers import batch_norm, dropout\n",
    "from tensorflow.examples.tutorials.mnist import input_data\n",
    "mnist = input_data.read_data_sets(\"/tmp/data/\")\n",
    "\n",
    "%matplotlib inline\n",
    "import matplotlib\n",
    "import matplotlib.pyplot as plt\n",
    "\n",
    "# set random seed for deterministic results.\n",
    "np.random.seed(0)\n",
    "tf.set_random_seed(0)\n",
    "\n",
    "def show_image(image):\n",
    "    plt.imshow(image, cmap = matplotlib.cm.binary,\n",
    "        interpolation=\"nearest\")\n",
    "    plt.axis(\"off\")\n",
    "    plt.show()\n",
    "\n",
    "def flatten(list_of_lists):\n",
    "    return [element for a_list in list_of_lists for element in a_list]\n",
    "\n",
    "some_digit = mnist.train.images[1]\n",
    "show_image(some_digit.reshape(28, 28))\n",
    "\n",
    "def degrees_to_radians(degrees):\n",
    "    return degrees * math.pi / 180.0\n",
    "\n",
    "def generate_rotate_images(images, angle_in_degrees):\n",
    "    expected_rank = 4\n",
    "    if len(images.shape) != expected_rank:\n",
    "        raise Error(\"Unexpected rank.\")\n",
    "    print(\"Rotating images with shape\", images.shape, \"for angle\", angle_in_degrees)\n",
    "    return tf.contrib.image.rotate(images, degrees_to_radians(angle_in_degrees)).eval()\n",
    "\n",
    "rotation_angles_in_degrees = [90.0, 180.0, 270.0]\n",
    "\n",
    "def generate_rotated_dataset(images, labels):\n",
    "    if len(images) != len(labels):\n",
    "        raise Error(\"images size is not equal to labels size.\")\n",
    "    reshaped_images = np.array([image.reshape(28, 28, 1) for image in images])\n",
    "    generated_images = flatten([generate_rotate_images(reshaped_images, degrees) for degrees in rotation_angles_in_degrees])\n",
    "    generated_labels = flatten([labels] * len(rotation_angles_in_degrees))\n",
    "    all_images = np.concatenate((reshaped_images, generated_images))\n",
    "    all_labels = np.concatenate((labels, generated_labels))\n",
    "    shuffled_indices = np.random.permutation(len(all_images))\n",
    "    return all_images[shuffled_indices], all_labels[shuffled_indices]\n",
    "\n",
    "with tf.Session().as_default() as sess:\n",
    "    train_images, train_labels = generate_rotated_dataset(mnist.train.images, mnist.train.labels)\n",
    "    validation_images, validation_labels = generate_rotated_dataset(mnist.validation.images, mnist.validation.labels)\n",
    "    test_images, test_labels =  generate_rotated_dataset(mnist.test.images, mnist.test.labels)\n",
    "    i = 1123\n",
    "    print(train_labels[i])\n",
    "    show_image(train_images[i].reshape(28, 28))\n",
    "    print(\"Finished generating images\")\n",
    "    # TODO: save the data to file and check if it exists before generating the data again.\n",
    "    #rotated_mnist_file_path = \"./rotated_mnist_data.cpickle\"\n",
    "    #with open(rotated_mnist_file_path, 'wb') as f:\n",
    "    #    pickle.dump((train_images, train_labels), f)"
   ]
  },
  {
   "cell_type": "code",
   "execution_count": 2,
   "metadata": {},
   "outputs": [],
   "source": [
    "def he_normal_initialisation(n_inputs, n_outputs):\n",
    "    stddev = np.power(2 / (n_inputs + n_outputs), 1 / np.sqrt(2))\n",
    "    # truncated normal distributions limit the size of the weights, speeding up the training time.\n",
    "    return tf.truncated_normal((n_inputs, n_outputs), stddev=stddev)\n",
    "\n",
    "def he_uniform_initialisation(n_inputs, n_outputs):\n",
    "    r = np.power(6 / (n_inputs + n_outputs), 1 / np.sqrt(2))\n",
    "    # truncated normal distributions limit the size of the weights, speeding up the training time.\n",
    "    return tf.random_uniform((n_inputs, n_outputs), -r, r)\n",
    "\n",
    "def neuron_layer(X, n_neurons, name):\n",
    "    with tf.name_scope(name):\n",
    "        #print(X.get_shape()[1])\n",
    "        n_inputs = int(X.get_shape()[1])\n",
    "        W = tf.Variable(he_normal_initialisation(n_inputs, n_neurons), name=\"weights\")\n",
    "        b = tf.Variable(tf.zeros([n_neurons]), name=\"biases\")\n",
    "        z = tf.matmul(X, W) + b\n",
    "        return tf.nn.elu(z)\n",
    "\n",
    "def cnn_layer(X, patch_size, n_input_filters, n_filters, name, initialised_weights_stddev = 0.05):\n",
    "    with tf.name_scope(name):\n",
    "        w = tf.Variable(tf.truncated_normal(\n",
    "            [patch_size, patch_size, n_input_filters, n_filters], stddev=initialised_weights_stddev))\n",
    "        b = tf.Variable(tf.zeros([n_filters]))\n",
    "        m = tf.nn.elu(tf.nn.conv2d(X, w, strides=[1, 2, 2, 1], padding=\"SAME\") + b)\n",
    "        return tf.nn.local_response_normalization(m, depth_radius=7, alpha=1.2)"
   ]
  },
  {
   "cell_type": "code",
   "execution_count": 3,
   "metadata": {},
   "outputs": [],
   "source": [
    "import math\n",
    "from sklearn.base import BaseEstimator, ClassifierMixin\n",
    "\n",
    "def create_next_batch_fn(images, labels, batch_size):\n",
    "    assert len(images) == len(labels)\n",
    "    current_batch = 0\n",
    "    def next_batch():\n",
    "        nonlocal current_batch\n",
    "        i = current_batch\n",
    "        #print(current_batch)\n",
    "        current_batch = (current_batch + batch_size) % len(images)\n",
    "        return images[i:i+batch_size], labels[i:i+batch_size]\n",
    "    return next_batch\n",
    "\n",
    "class CnnClassifier(BaseEstimator, ClassifierMixin):\n",
    "    def __init__(self, n_cnn_layers=3, first_cnn_n_neurons=200, ccn_layer_ratio=0.5, fully_connected_neurons = 1200,\n",
    "                learning_rate=0.01):\n",
    "        self.n_cnn_layers = n_cnn_layers\n",
    "        self.first_cnn_n_neurons = first_cnn_n_neurons\n",
    "        self.ccn_layer_ratio = ccn_layer_ratio\n",
    "        self.fully_connected_neurons = fully_connected_neurons\n",
    "        self.learning_rate = learning_rate\n",
    "        self._build_graph()\n",
    "\n",
    "    def _build_graph(self):\n",
    "        input_spatial_size = 28\n",
    "        input_channels = 1\n",
    "        n_filters_per_layer = [int(self.first_cnn_n_neurons * (self.ccn_layer_ratio ** i)) for i in range(self.n_cnn_layers)]\n",
    "        print(\"n_filters_per_layer:\", n_filters_per_layer)\n",
    "        patch_size = 3\n",
    "        self.n_output = 10\n",
    "        self.batch_size = 200\n",
    "        \n",
    "        with tf.device(\"/gpu:0\"):\n",
    "            self.x = tf.placeholder(tf.float32, shape=(None, input_spatial_size, input_spatial_size, 1), name=\"input\")\n",
    "            self.y = tf.placeholder(tf.int64, shape=(None), name=\"y\")\n",
    "\n",
    "            with tf.name_scope(\"dnn\"):\n",
    "                input_tensor = self.x\n",
    "                n_input_filters = input_channels\n",
    "                for i in range(len(n_filters_per_layer)):\n",
    "                    input_tensor = cnn_layer(input_tensor, patch_size, n_input_filters, n_filters_per_layer[i], \"hidden\" + str(i + 1))\n",
    "                    n_input_filters = n_filters_per_layer[i]\n",
    "                #avg_pool_output = tf.nn.avg_pool(input_tensor, [1, 2, 2, 1], [1, 2, 2, 1], padding='SAME')\n",
    "                # If more than one element of the shape list is -1, the tf.reshape operation below will have an error.\n",
    "                shape = list(map(lambda a: -1 if a == None else a, input_tensor.get_shape().as_list()))\n",
    "                #print(shape)\n",
    "                reshape = tf.reshape(input_tensor, [shape[0], shape[1] * shape[2] * shape[3]])\n",
    "                fc = tf.nn.dropout(neuron_layer(reshape, self.fully_connected_neurons, \"fully_connected_one\"), keep_prob=0.4)\n",
    "                #print(reshape.get_shape())\n",
    "                logits = neuron_layer(fc, self.n_output, \"output\")\n",
    "                self.evaluation = tf.nn.softmax(logits)\n",
    "\n",
    "            with tf.name_scope(\"loss\"):\n",
    "                cross_entropy = tf.nn.sparse_softmax_cross_entropy_with_logits(labels=self.y, logits=logits)\n",
    "                self.loss = tf.reduce_mean(cross_entropy, name=\"loss\")\n",
    "\n",
    "            with tf.name_scope(\"training\"):\n",
    "                optimizer = tf.train.AdamOptimizer(learning_rate=self.learning_rate)\n",
    "                self.training_op = optimizer.minimize(self.loss)\n",
    "\n",
    "        with tf.name_scope(\"eval\"):\n",
    "            k = 1\n",
    "            correctness = tf.nn.in_top_k(logits, self.y, k)\n",
    "            self.accuracy = tf.reduce_mean(tf.cast(correctness, tf.float32)) * 100\n",
    "            \n",
    "        self.init = tf.global_variables_initializer()\n",
    "\n",
    "    def fit(self, X, y, valid_X, valid_y, epochs = 20):\n",
    "        saver = tf.train.Saver()\n",
    "\n",
    "        interim_checkpoint_path = \"./checkpoints/mnist_cnn_model.ckpt\"\n",
    "        early_stopping_checkpoint_path = \"./checkpoints/mnist_cnn_model_early_stopping.ckpt\"\n",
    "\n",
    "        from datetime import datetime\n",
    "\n",
    "        now = datetime.utcnow().strftime(\"%Y%m%d%H%M%S\")\n",
    "        root_logdir = \"tf_logs\"\n",
    "        log_dir = \"{}/run-{}/\".format(root_logdir, now)\n",
    "\n",
    "        loss_summary = tf.summary.scalar('loss', self.loss)\n",
    "        accuracy_summary = tf.summary.scalar(\"accuracy\", self.accuracy)\n",
    "        summary_op = tf.summary.merge([loss_summary, accuracy_summary])\n",
    "        file_writer = tf.summary.FileWriter(log_dir, tf.get_default_graph())\n",
    "        \n",
    "        n_batches = int(np.ceil(len(X) // self.batch_size))\n",
    "        next_batch = create_next_batch_fn(X, y, self.batch_size)\n",
    "            \n",
    "        early_stopping_check_frequency = self.batch_size // 4\n",
    "        early_stopping_check_limit = self.batch_size * 2\n",
    "\n",
    "        sess = tf.Session(config=tf.ConfigProto(log_device_placement=True))\n",
    "        self.session = sess\n",
    "        sess.run(self.init)\n",
    "        #saver.restore(sess, interim_checkpoint_path)\n",
    "\n",
    "        best_validation_acc = 0.0\n",
    "        best_validation_step = 0\n",
    "        for epoch in range(epochs):\n",
    "            print(\"epoch\", epoch)\n",
    "            for batch_index in range(n_batches):\n",
    "                step = epoch * n_batches + batch_index\n",
    "                X_batch, y_batch = next_batch()\n",
    "                if batch_index % 10 == 0:\n",
    "                    summary_str = summary_op.eval(session=sess, feed_dict={self.x: X_batch, self.y: y_batch})\n",
    "                    file_writer.add_summary(summary_str, step)\n",
    "                t, l, a = sess.run([self.training_op, self.loss, self.accuracy], feed_dict={self.x: X_batch, self.y: y_batch})\n",
    "                if batch_index % 10 == 0: print(\"loss:\", l, \"train accuracy:\", a)\n",
    "                # Early stopping check\n",
    "                if batch_index % early_stopping_check_frequency == 0:\n",
    "                    validation_acc = self.prediction_accuracy(valid_X, valid_y)\n",
    "                    print(\"validation accuracy\", validation_acc)\n",
    "                    if validation_acc > best_validation_acc:\n",
    "                        saver.save(sess, early_stopping_checkpoint_path)\n",
    "                        best_validation_acc = validation_acc\n",
    "                        best_validation_step = step\n",
    "                    elif step >= (best_validation_step + early_stopping_check_limit):\n",
    "                        print(\"Stopping early during epoch\", epoch)\n",
    "                        break\n",
    "            else:\n",
    "                continue\n",
    "            break\n",
    "            save_path = saver.save(sess, interim_checkpoint_path)\n",
    "        saver.restore(sess, early_stopping_checkpoint_path)\n",
    "        save_path = saver.save(sess, \"./checkpoints/mnist_cnn_model_final.ckpt\")\n",
    "            \n",
    "    def predict_proba(self, X):\n",
    "        dataset_size = X.shape[0]\n",
    "        #print \"dataset_size: \", dataset_size, \" batch_size: \", batch_size\n",
    "        predictions = np.ndarray(shape=(dataset_size, self.n_output), dtype=np.float32)\n",
    "        steps = int(math.ceil(dataset_size / self.batch_size))\n",
    "        #print \"steps: \", steps\n",
    "        for step in range(steps):\n",
    "            offset = (step * self.batch_size)\n",
    "            #print \"offset \", offset\n",
    "            data_end_index = min(offset + self.batch_size, dataset_size)\n",
    "            batch_data = X[offset:data_end_index, :]\n",
    "            feed_dict = {\n",
    "                self.x: batch_data\n",
    "            }\n",
    "            predictions[offset:data_end_index, :] = self.evaluation.eval(session=self.session, feed_dict=feed_dict)\n",
    "        return predictions\n",
    "\n",
    "    def predict(self, X):\n",
    "        return np.argmax(self.predict_proba(X).astype(int), axis=1)\n",
    "    \n",
    "    def _prediction_accuracy(self, predictions, labels):\n",
    "        return (100.0 * np.sum(np.argmax(predictions, 1) == labels)\n",
    "              / predictions.shape[0])\n",
    "    \n",
    "    def prediction_accuracy(self, X, y):\n",
    "        predictions = self.predict_proba(X)\n",
    "        return self._prediction_accuracy(predictions, y)"
   ]
  },
  {
   "cell_type": "code",
   "execution_count": 4,
   "metadata": {
    "scrolled": true
   },
   "outputs": [
    {
     "name": "stdout",
     "output_type": "stream",
     "text": [
      "n_filters_per_layer: [200, 100, 50]\n",
      "epoch 0\n",
      "loss: 2.30215 train accuracy: 15.0\n",
      "validation accuracy 14.67\n",
      "loss: 6.47777 train accuracy: 9.5\n",
      "loss: 2.23103 train accuracy: 11.5\n",
      "loss: 2.22263 train accuracy: 15.5\n",
      "loss: 2.21269 train accuracy: 14.0\n",
      "loss: 2.20998 train accuracy: 20.0\n",
      "validation accuracy 11.0\n",
      "loss: 2.20474 train accuracy: 27.0\n",
      "loss: 2.17085 train accuracy: 34.5\n",
      "loss: 2.17171 train accuracy: 41.5\n",
      "loss: 2.12002 train accuracy: 38.5\n",
      "loss: 2.13094 train accuracy: 33.0\n",
      "validation accuracy 11.065\n",
      "loss: 2.19126 train accuracy: 51.5\n",
      "loss: 2.22968 train accuracy: 37.5\n",
      "loss: 2.1863 train accuracy: 43.0\n",
      "loss: 2.18768 train accuracy: 41.5\n",
      "loss: 2.10157 train accuracy: 47.5\n",
      "validation accuracy 15.14\n",
      "loss: 2.1571 train accuracy: 55.5\n",
      "loss: 2.14242 train accuracy: 55.5\n",
      "loss: 2.15394 train accuracy: 50.5\n",
      "loss: 2.15585 train accuracy: 38.0\n",
      "loss: 2.21474 train accuracy: 38.0\n",
      "validation accuracy 15.83\n",
      "loss: 2.18628 train accuracy: 36.5\n",
      "loss: 2.20332 train accuracy: 32.5\n",
      "loss: 2.12216 train accuracy: 36.5\n",
      "loss: 2.05955 train accuracy: 39.5\n",
      "loss: 2.25691 train accuracy: 31.0\n",
      "validation accuracy 21.175\n",
      "loss: 2.12993 train accuracy: 33.5\n",
      "loss: 2.18463 train accuracy: 23.0\n",
      "loss: 2.19006 train accuracy: 16.5\n",
      "loss: 2.11107 train accuracy: 29.5\n",
      "loss: 2.10081 train accuracy: 20.0\n",
      "validation accuracy 21.38\n",
      "loss: 2.1442 train accuracy: 25.0\n",
      "loss: 2.1295 train accuracy: 21.5\n",
      "loss: 2.16923 train accuracy: 39.5\n",
      "loss: 2.134 train accuracy: 49.5\n",
      "loss: 2.14511 train accuracy: 70.5\n",
      "validation accuracy 12.845\n",
      "loss: 2.19048 train accuracy: 70.0\n",
      "loss: 2.09668 train accuracy: 67.0\n",
      "loss: 2.18738 train accuracy: 62.0\n",
      "loss: 2.08945 train accuracy: 53.0\n",
      "loss: 2.11668 train accuracy: 64.5\n",
      "validation accuracy 17.865\n",
      "loss: 2.12967 train accuracy: 52.5\n",
      "loss: 2.14394 train accuracy: 47.5\n",
      "loss: 2.13914 train accuracy: 39.5\n",
      "loss: 2.15103 train accuracy: 42.0\n",
      "loss: 2.1411 train accuracy: 47.0\n",
      "validation accuracy 15.85\n",
      "loss: 2.13978 train accuracy: 54.0\n",
      "loss: 2.19633 train accuracy: 60.0\n",
      "loss: 2.13687 train accuracy: 69.5\n",
      "loss: 2.12522 train accuracy: 64.0\n",
      "loss: 2.07682 train accuracy: 59.5\n",
      "validation accuracy 15.985\n",
      "loss: 2.14247 train accuracy: 70.0\n",
      "loss: 2.13087 train accuracy: 71.0\n",
      "loss: 2.14419 train accuracy: 75.0\n",
      "loss: 2.12992 train accuracy: 72.5\n",
      "loss: 2.25158 train accuracy: 74.5\n",
      "validation accuracy 12.09\n",
      "loss: 2.13494 train accuracy: 69.5\n",
      "loss: 2.15291 train accuracy: 67.0\n",
      "loss: 2.14176 train accuracy: 59.0\n",
      "loss: 2.14336 train accuracy: 63.5\n",
      "loss: 2.07704 train accuracy: 54.0\n",
      "validation accuracy 17.0\n",
      "loss: 2.09602 train accuracy: 53.0\n",
      "loss: 2.11565 train accuracy: 45.0\n",
      "loss: 2.20772 train accuracy: 68.0\n",
      "loss: 1.99935 train accuracy: 71.5\n",
      "loss: 2.26484 train accuracy: 83.0\n",
      "validation accuracy 7.535\n",
      "loss: 2.27956 train accuracy: 85.0\n",
      "loss: 2.24543 train accuracy: 85.0\n",
      "loss: 2.20201 train accuracy: 86.5\n",
      "loss: 2.20761 train accuracy: 84.0\n",
      "loss: 2.06251 train accuracy: 84.5\n",
      "validation accuracy 11.06\n",
      "Stopping early during epoch 0\n",
      "INFO:tensorflow:Restoring parameters from ./checkpoints/mnist_cnn_model_early_stopping.ckpt\n",
      ">>>>>>>>>> unmodified test dataset accuracy: 19.39\n",
      ">>>>>>>>>> generated test dataset accuracy: 21.2525\n"
     ]
    }
   ],
   "source": [
    "cnn_clf = CnnClassifier()\n",
    "cnn_clf.fit(train_images, train_labels, validation_images, validation_labels)\n",
    "\n",
    "test_acc = cnn_clf.prediction_accuracy(mnist.test.images.reshape(-1, 28, 28, 1), mnist.test.labels)\n",
    "print(\">>>>>>>>>> unmodified test dataset accuracy:\", test_acc)\n",
    "\n",
    "generated_test_acc = cnn_clf.prediction_accuracy(test_images, test_labels)\n",
    "print(\">>>>>>>>>> generated test dataset accuracy:\", generated_test_acc)"
   ]
  },
  {
   "cell_type": "markdown",
   "metadata": {},
   "source": [
    "This exact model previously got 96.15% accuracy on the MNIST testing dataset. So performance has dropped a little bit from making it rotational invariant.\n",
    "\n",
    "The model naturally performs better on the generated test dataset with a 96.31% accuracy. I'm actually surprised that this model can identify the difference between an upside down '6' and a '9' and vice versa.\n",
    "\n",
    "Let's check that this model actually correctly classifies rotated digits."
   ]
  },
  {
   "cell_type": "code",
   "execution_count": 5,
   "metadata": {
    "scrolled": false
   },
   "outputs": [
    {
     "name": "stdout",
     "output_type": "stream",
     "text": [
      "Actual label 1 , Predicted label 0\n"
     ]
    },
    {
     "data": {
      "image/png": "[encoded data removed]",
      "text/plain": [
       "<matplotlib.figure.Figure at 0x7fe2d0767128>"
      ]
     },
     "metadata": {},
     "output_type": "display_data"
    },
    {
     "name": "stdout",
     "output_type": "stream",
     "text": [
      "Actual label 4 , Predicted label 0\n"
     ]
    },
    {
     "data": {
      "image/png": "[encoded data removed]",
      "text/plain": [
       "<matplotlib.figure.Figure at 0x7fe2be875860>"
      ]
     },
     "metadata": {},
     "output_type": "display_data"
    },
    {
     "name": "stdout",
     "output_type": "stream",
     "text": [
      "Actual label 2 , Predicted label 0\n"
     ]
    },
    {
     "data": {
      "image/png": "[encoded data removed]",
      "text/plain": [
       "<matplotlib.figure.Figure at 0x7fe2be8e54e0>"
      ]
     },
     "metadata": {},
     "output_type": "display_data"
    },
    {
     "name": "stdout",
     "output_type": "stream",
     "text": [
      "Actual label 4 , Predicted label 0\n"
     ]
    },
    {
     "data": {
      "image/png": "[encoded data removed]",
      "text/plain": [
       "<matplotlib.figure.Figure at 0x7fe2be886550>"
      ]
     },
     "metadata": {},
     "output_type": "display_data"
    },
    {
     "name": "stdout",
     "output_type": "stream",
     "text": [
      "Actual label 6 , Predicted label 0\n"
     ]
    },
    {
     "data": {
      "image/png": "[encoded data removed]",
      "text/plain": [
       "<matplotlib.figure.Figure at 0x7fe2be8de780>"
      ]
     },
     "metadata": {},
     "output_type": "display_data"
    },
    {
     "name": "stdout",
     "output_type": "stream",
     "text": [
      "Actual label 8 , Predicted label 0\n"
     ]
    },
    {
     "data": {
      "image/png": "[encoded data removed]",
      "text/plain": [
       "<matplotlib.figure.Figure at 0x7fe2d065c630>"
      ]
     },
     "metadata": {},
     "output_type": "display_data"
    },
    {
     "name": "stdout",
     "output_type": "stream",
     "text": [
      "Actual label 7 , Predicted label 0\n"
     ]
    },
    {
     "data": {
      "image/png": "[encoded data removed]",
      "text/plain": [
       "<matplotlib.figure.Figure at 0x7fe2be85cd30>"
      ]
     },
     "metadata": {},
     "output_type": "display_data"
    },
    {
     "name": "stdout",
     "output_type": "stream",
     "text": [
      "Actual label 8 , Predicted label 0\n"
     ]
    },
    {
     "data": {
      "image/png": "[encoded data removed]",
      "text/plain": [
       "<matplotlib.figure.Figure at 0x7fe2be395fd0>"
      ]
     },
     "metadata": {},
     "output_type": "display_data"
    },
    {
     "name": "stdout",
     "output_type": "stream",
     "text": [
      "Actual label 3 , Predicted label 0\n"
     ]
    },
    {
     "data": {
      "image/png": "[encoded data removed]",
      "text/plain": [
       "<matplotlib.figure.Figure at 0x7fe2be3b0320>"
      ]
     },
     "metadata": {},
     "output_type": "display_data"
    },
    {
     "name": "stdout",
     "output_type": "stream",
     "text": [
      "Actual label 3 , Predicted label 0\n"
     ]
    },
    {
     "data": {
      "image/png": "[encoded data removed]",
      "text/plain": [
       "<matplotlib.figure.Figure at 0x7fe2be2d7d30>"
      ]
     },
     "metadata": {},
     "output_type": "display_data"
    },
    {
     "name": "stdout",
     "output_type": "stream",
     "text": [
      "Actual label 7 , Predicted label 0\n"
     ]
    },
    {
     "data": {
      "image/png": "[encoded data removed]",
      "text/plain": [
       "<matplotlib.figure.Figure at 0x7fe2be2f0080>"
      ]
     },
     "metadata": {},
     "output_type": "display_data"
    },
    {
     "name": "stdout",
     "output_type": "stream",
     "text": [
      "Actual label 9 , Predicted label 0\n"
     ]
    },
    {
     "data": {
      "image/png": "[encoded data removed]",
      "text/plain": [
       "<matplotlib.figure.Figure at 0x7fe2be215f98>"
      ]
     },
     "metadata": {},
     "output_type": "display_data"
    },
    {
     "name": "stdout",
     "output_type": "stream",
     "text": [
      "Actual label 8 , Predicted label 0\n"
     ]
    },
    {
     "data": {
      "image/png": "[encoded data removed]",
      "text/plain": [
       "<matplotlib.figure.Figure at 0x7fe2be23a3c8>"
      ]
     },
     "metadata": {},
     "output_type": "display_data"
    },
    {
     "name": "stdout",
     "output_type": "stream",
     "text": [
      "Actual label 3 , Predicted label 0\n"
     ]
    },
    {
     "data": {
      "image/png": "[encoded data removed]",
      "text/plain": [
       "<matplotlib.figure.Figure at 0x7fe2bc129278>"
      ]
     },
     "metadata": {},
     "output_type": "display_data"
    },
    {
     "name": "stdout",
     "output_type": "stream",
     "text": [
      "Actual label 7 , Predicted label 0\n"
     ]
    },
    {
     "data": {
      "image/png": "[encoded data removed]",
      "text/plain": [
       "<matplotlib.figure.Figure at 0x7fe2bc109390>"
      ]
     },
     "metadata": {},
     "output_type": "display_data"
    },
    {
     "name": "stdout",
     "output_type": "stream",
     "text": [
      "Actual label 5 , Predicted label 0\n"
     ]
    },
    {
     "data": {
      "image/png": "[encoded data removed]",
      "text/plain": [
       "<matplotlib.figure.Figure at 0x7fe2bc06b518>"
      ]
     },
     "metadata": {},
     "output_type": "display_data"
    },
    {
     "name": "stdout",
     "output_type": "stream",
     "text": [
      "Actual label 5 , Predicted label 0\n"
     ]
    },
    {
     "data": {
      "image/png": "[encoded data removed]",
      "text/plain": [
       "<matplotlib.figure.Figure at 0x7fe2bc049da0>"
      ]
     },
     "metadata": {},
     "output_type": "display_data"
    },
    {
     "name": "stdout",
     "output_type": "stream",
     "text": [
      "Actual label 3 , Predicted label 0\n"
     ]
    },
    {
     "data": {
      "image/png": "[encoded data removed]",
      "text/plain": [
       "<matplotlib.figure.Figure at 0x7fe2a01c7c18>"
      ]
     },
     "metadata": {},
     "output_type": "display_data"
    },
    {
     "name": "stdout",
     "output_type": "stream",
     "text": [
      "Actual label 9 , Predicted label 0\n"
     ]
    },
    {
     "data": {
      "image/png": "[encoded data removed]",
      "text/plain": [
       "<matplotlib.figure.Figure at 0x7fe2bc0324a8>"
      ]
     },
     "metadata": {},
     "output_type": "display_data"
    },
    {
     "name": "stdout",
     "output_type": "stream",
     "text": [
      "Actual label 7 , Predicted label 0\n"
     ]
    },
    {
     "data": {
      "image/png": "[encoded data removed]",
      "text/plain": [
       "<matplotlib.figure.Figure at 0x7fe2bc0eb4e0>"
      ]
     },
     "metadata": {},
     "output_type": "display_data"
    }
   ],
   "source": [
    "num_digits_to_check = 20\n",
    "predictions = cnn_clf.predict(test_images[:num_digits_to_check])\n",
    "for image, actual_label, predicted_label in zip(test_images[:num_digits_to_check], test_labels[:num_digits_to_check], predictions):\n",
    "    print(\"Actual label\", actual_label, \", Predicted label\", predicted_label)\n",
    "    show_image(image.reshape(28, 28))"
   ]
  },
  {
   "cell_type": "code",
   "execution_count": null,
   "metadata": {},
   "outputs": [],
   "source": []
  }
 ],
 "metadata": {
  "kernelspec": {
   "display_name": "Python 3",
   "language": "python",
   "name": "python3"
  },
  "language_info": {
   "codemirror_mode": {
    "name": "ipython",
    "version": 3
   },
   "file_extension": ".py",
   "mimetype": "text/x-python",
   "name": "python",
   "nbconvert_exporter": "python",
   "pygments_lexer": "ipython3",
   "version": "3.5.2"
  }
 },
 "nbformat": 4,
 "nbformat_minor": 2
}
