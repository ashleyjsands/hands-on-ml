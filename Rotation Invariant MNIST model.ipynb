{
 "cells": [
  {
   "cell_type": "code",
   "execution_count": 11,
   "metadata": {},
   "outputs": [
    {
     "data": {
      "application/javascript": [
       "IPython.notebook.set_autosave_interval(60000)"
      ]
     },
     "metadata": {},
     "output_type": "display_data"
    },
    {
     "name": "stdout",
     "output_type": "stream",
     "text": [
      "Autosaving every 60 seconds\n",
      "Extracting /tmp/data/train-images-idx3-ubyte.gz\n",
      "Extracting /tmp/data/train-labels-idx1-ubyte.gz\n",
      "Extracting /tmp/data/t10k-images-idx3-ubyte.gz\n",
      "Extracting /tmp/data/t10k-labels-idx1-ubyte.gz\n"
     ]
    },
    {
     "data": {
      "image/png": "[encoded data removed]",
      "text/plain": [
       "<matplotlib.figure.Figure at 0x7f86be2cb198>"
      ]
     },
     "metadata": {},
     "output_type": "display_data"
    },
    {
     "name": "stdout",
     "output_type": "stream",
     "text": [
      "Rotating images with shape (55000, 28, 28, 1) for angle 90.0\n",
      "Rotating images with shape (55000, 28, 28, 1) for angle 180.0\n",
      "Rotating images with shape (55000, 28, 28, 1) for angle 270.0\n"
     ]
    },
    {
     "data": {
      "image/png": "[encoded data removed]",
      "text/plain": [
       "<matplotlib.figure.Figure at 0x7f866c29b240>"
      ]
     },
     "metadata": {},
     "output_type": "display_data"
    },
    {
     "name": "stdout",
     "output_type": "stream",
     "text": [
      "Finished generating images\n"
     ]
    }
   ],
   "source": [
    "%autosave 60\n",
    "\n",
    "import math\n",
    "import pickle\n",
    "import tensorflow as tf\n",
    "import numpy as np\n",
    "from tensorflow.contrib.layers import batch_norm, dropout\n",
    "from tensorflow.examples.tutorials.mnist import input_data\n",
    "mnist = input_data.read_data_sets(\"/tmp/data/\")\n",
    "\n",
    "%matplotlib inline\n",
    "import matplotlib\n",
    "import matplotlib.pyplot as plt\n",
    "\n",
    "def show_image(image):\n",
    "    plt.imshow(image, cmap = matplotlib.cm.binary,\n",
    "        interpolation=\"nearest\")\n",
    "    plt.axis(\"off\")\n",
    "    plt.show()\n",
    "\n",
    "def flatten(list_of_lists):\n",
    "    return [element for a_list in list_of_lists for element in a_list]\n",
    "\n",
    "some_digit = mnist.train.images[1]\n",
    "show_image(some_digit.reshape(28, 28))\n",
    "\n",
    "def degrees_to_radians(degrees):\n",
    "    return degrees * math.pi / 180.0\n",
    "\n",
    "def generate_rotate_images(images, angle_in_degrees):\n",
    "    expected_rank = 4\n",
    "    if len(images.shape) != expected_rank:\n",
    "        raise Error(\"Unexpected rank.\")\n",
    "    print(\"Rotating images with shape\", images.shape, \"for angle\", angle_in_degrees)\n",
    "    return tf.contrib.image.rotate(images, degrees_to_radians(angle_in_degrees)).eval()\n",
    "    \n",
    "def generate_rotated_dataset(images, labels):\n",
    "    if len(images) != len(labels):\n",
    "        raise Error(\"images size is not equal to labels size.\")\n",
    "    reshaped_images = np.array([image.reshape(28, 28, 1) for image in images])\n",
    "    angles_in_degrees = [90.0, 180.0, 270.0]\n",
    "    generated_images = flatten([generate_rotate_images(reshaped_images, degrees) for degrees in angles_in_degrees])\n",
    "    generated_labels = flatten([labels] * len(angles_in_degrees))\n",
    "    return generated_images, generated_labels\n",
    "\n",
    "with tf.Session().as_default() as sess:\n",
    "    train_images, train_labels = generate_rotated_dataset(mnist.train.images, mnist.train.labels)\n",
    "    \n",
    "    i = 1123\n",
    "    show_image(train_images[i].reshape(28, 28))\n",
    "    print(\"Finished generating images\")\n",
    "    rotated_mnist_file_path = \"./rotated_mnist_data.cpickle\"\n",
    "    with open(rotated_mnist_file_path, 'wb') as f:\n",
    "        pickle.dump((train_images, train_labels), f)"
   ]
  },
  {
   "cell_type": "code",
   "execution_count": null,
   "metadata": {},
   "outputs": [],
   "source": []
  }
 ],
 "metadata": {
  "kernelspec": {
   "display_name": "Python 3",
   "language": "python",
   "name": "python3"
  },
  "language_info": {
   "codemirror_mode": {
    "name": "ipython",
    "version": 3
   },
   "file_extension": ".py",
   "mimetype": "text/x-python",
   "name": "python",
   "nbconvert_exporter": "python",
   "pygments_lexer": "ipython3",
   "version": "3.5.2"
  }
 },
 "nbformat": 4,
 "nbformat_minor": 2
}
